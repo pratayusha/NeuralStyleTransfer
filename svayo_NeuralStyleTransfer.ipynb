{
  "nbformat": 4,
  "nbformat_minor": 0,
  "metadata": {
    "colab": {
      "provenance": [],
      "authorship_tag": "ABX9TyNq9tDWJxLvRC26rCkI/3BC",
      "include_colab_link": true
    },
    "kernelspec": {
      "name": "python3",
      "display_name": "Python 3"
    },
    "language_info": {
      "name": "python"
    },
    "accelerator": "GPU",
    "gpuClass": "standard"
  },
  "cells": [
    {
      "cell_type": "markdown",
      "metadata": {
        "id": "view-in-github",
        "colab_type": "text"
      },
      "source": [
        "<a href=\"https://colab.research.google.com/github/pratayusha/NeuralStyleTransfer/blob/main/svayo_NeuralStyleTransfer.ipynb\" target=\"_parent\"><img src=\"https://colab.research.google.com/assets/colab-badge.svg\" alt=\"Open In Colab\"/></a>"
      ]
    },
    {
      "cell_type": "markdown",
      "source": [
        "Approach 2"
      ],
      "metadata": {
        "id": "FdN8Q4GOzKrc"
      }
    },
    {
      "cell_type": "code",
      "source": [
        "!git clone https://github.com/thiagoambiel/PortraitStylization.git\n",
        "%cd /content/PortraitStylization/"
      ],
      "metadata": {
        "id": "Rejgq-EEzL1X"
      },
      "execution_count": null,
      "outputs": []
    },
    {
      "cell_type": "code",
      "source": [
        "!nvcc --version"
      ],
      "metadata": {
        "id": "HeYetXO6SAcQ"
      },
      "execution_count": null,
      "outputs": []
    },
    {
      "cell_type": "code",
      "source": [
        "!nvidia-smi"
      ],
      "metadata": {
        "id": "oSXwzqEASWnA"
      },
      "execution_count": null,
      "outputs": []
    },
    {
      "cell_type": "code",
      "source": [
        "import torch\n",
        "torch.cuda.is_available()"
      ],
      "metadata": {
        "id": "fWmzJFFvSzKb"
      },
      "execution_count": null,
      "outputs": []
    },
    {
      "cell_type": "code",
      "source": [
        "!conda install pytorch torchvision cudatoolkit=10.2 -c pytorch\n",
        "!pip install -r requirements.txt"
      ],
      "metadata": {
        "id": "6uxv9uerzMs3"
      },
      "execution_count": null,
      "outputs": []
    },
    {
      "cell_type": "code",
      "source": [
        "!python stylize.py elon_musk_portrait.jpeg abstract_pattern.jpeg -o stylized.jpg -cw 0.05 -fw 0.25"
      ],
      "metadata": {
        "id": "kDerxy9ATSf9"
      },
      "execution_count": null,
      "outputs": []
    },
    {
      "cell_type": "code",
      "source": [
        "!python remove_bg.py elon_musk_portrait.jpeg background.jpg"
      ],
      "metadata": {
        "id": "hXYPGA6xF52u"
      },
      "execution_count": null,
      "outputs": []
    },
    {
      "cell_type": "code",
      "source": [
        "from PIL import Image\n",
        "import numpy as np\n",
        "\n",
        "im = Image.open('elon_musk_portrait.jpeg')\n",
        "im = np.array(im)\n",
        "print('Shape of input image: ',im.shape)\n",
        "\n",
        "stylized_pil = Image.open('stylized.jpg')\n",
        "stylized = np.array(stylized_pil)\n",
        "print('Shape of stylized image: ', stylized.shape)\n",
        "\n",
        "bg_pil = Image.open('background.jpg')\n",
        "bg = np.array(bg_pil)\n",
        "print('Shape of background image: ', bg.shape)\n",
        "\n",
        "mg = Image.open('merged.jpg')\n",
        "mg = np.array(mg)\n",
        "print('Shape of merged image: ', mg.shape)"
      ],
      "metadata": {
        "id": "FYrzFAPKV4yL",
        "colab": {
          "base_uri": "https://localhost:8080/"
        },
        "outputId": "76a67110-7077-4184-d9a0-afaeeb011826"
      },
      "execution_count": 15,
      "outputs": [
        {
          "output_type": "stream",
          "name": "stdout",
          "text": [
            "Shape of input image:  (606, 461, 3)\n",
            "Shape of stylized image:  (606, 461, 3)\n",
            "Shape of background image:  (606, 461, 3)\n",
            "Shape of merged image:  (606, 461, 3)\n"
          ]
        }
      ]
    }
  ]
}